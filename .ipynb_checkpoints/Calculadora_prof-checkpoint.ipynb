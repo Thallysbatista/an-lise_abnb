{
 "cells": [
  {
   "cell_type": "code",
   "execution_count": 1,
   "id": "3436b910",
   "metadata": {},
   "outputs": [
    {
     "name": "stdout",
     "output_type": "stream",
     "text": [
      "---------- Calculadora em Python ----------\n"
     ]
    }
   ],
   "source": [
    "print('-'*10, 'Calculadora em Python', '-'*10)"
   ]
  },
  {
   "cell_type": "code",
   "execution_count": 2,
   "id": "6b9f6c17",
   "metadata": {},
   "outputs": [],
   "source": [
    "def add(x,y):\n",
    "    return x + y\n",
    "def sub(x,y):\n",
    "    return x - y\n",
    "def mult(x,y):\n",
    "    return x * y\n",
    "def div(x,y):\n",
    "    return x/y"
   ]
  },
  {
   "cell_type": "code",
   "execution_count": 3,
   "id": "7c85830a",
   "metadata": {},
   "outputs": [
    {
     "name": "stdout",
     "output_type": "stream",
     "text": [
      "Selecione a opção desejada: \n",
      "1 - soma\n",
      "2 - subtração\n",
      "3 - multiplicação\n",
      "4 - divisão\n"
     ]
    }
   ],
   "source": [
    "print('Selecione a opção desejada: ')\n",
    "print('1 - soma')\n",
    "print('2 - subtração')\n",
    "print('3 - multiplicação')\n",
    "print('4 - divisão')"
   ]
  },
  {
   "cell_type": "code",
   "execution_count": 4,
   "id": "431d8ed0",
   "metadata": {},
   "outputs": [
    {
     "name": "stdout",
     "output_type": "stream",
     "text": [
      "Digite uma opção 1/2/3/4: 5\n"
     ]
    }
   ],
   "source": [
    "escolha = int(input('Digite uma opção 1/2/3/4: '))"
   ]
  },
  {
   "cell_type": "code",
   "execution_count": 5,
   "id": "5955d2eb",
   "metadata": {},
   "outputs": [
    {
     "name": "stdout",
     "output_type": "stream",
     "text": [
      "Digite o primeiro número: 5\n",
      "Digite o segundo número: 5\n"
     ]
    }
   ],
   "source": [
    "num1 = float(input('Digite o primeiro número: '))\n",
    "num2 = float(input('Digite o segundo número: '))"
   ]
  },
  {
   "cell_type": "code",
   "execution_count": 6,
   "id": "4027d1a5",
   "metadata": {},
   "outputs": [
    {
     "name": "stdout",
     "output_type": "stream",
     "text": [
      "Escolha errada\n"
     ]
    }
   ],
   "source": [
    "if escolha == 1:\n",
    "    print('\\n')\n",
    "    print(num1, '+', num2, '=',add(num1, num2))\n",
    "    print('\\n')\n",
    "elif escolha == 2:\n",
    "    print('\\n')\n",
    "    print(num1, '+', num2, '=',sub(num1, num2))\n",
    "    print('\\n')\n",
    "elif escolha == 3:\n",
    "    print('\\n')\n",
    "    print(num1, '+', num2, '=',mult(num1, num2))\n",
    "    print('\\n')\n",
    "elif escolha == 4:\n",
    "    print('\\n')\n",
    "    print(num1, '+', num2, '=', div(num1, num2))\n",
    "    print('\\n')\n",
    "else:\n",
    "    print('Escolha errada')"
   ]
  }
 ],
 "metadata": {
  "kernelspec": {
   "display_name": "Python 3 (ipykernel)",
   "language": "python",
   "name": "python3"
  },
  "language_info": {
   "codemirror_mode": {
    "name": "ipython",
    "version": 3
   },
   "file_extension": ".py",
   "mimetype": "text/x-python",
   "name": "python",
   "nbconvert_exporter": "python",
   "pygments_lexer": "ipython3",
   "version": "3.11.5"
  }
 },
 "nbformat": 4,
 "nbformat_minor": 5
}
