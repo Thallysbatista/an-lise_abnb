{
 "cells": [
  {
   "cell_type": "code",
   "execution_count": 1,
   "id": "7b7b30bc",
   "metadata": {},
   "outputs": [
    {
     "name": "stdout",
     "output_type": "stream",
     "text": [
      "--------------- Calculadora em Python --------------- \n",
      "\n",
      "Selecione a opção desejada: \n",
      "\n",
      "1 - soma\n",
      "2 - subtração\n",
      "3 - multiplicação\n",
      "4 - divisão\n",
      "Digite sua opção: 1\n"
     ]
    }
   ],
   "source": [
    "print('-'*15, 'Calculadora em Python', '-'*15, '\\n')\n",
    "print('Selecione a opção desejada: \\n')\n",
    "print('1 - soma')\n",
    "print('2 - subtração')\n",
    "print('3 - multiplicação')\n",
    "print('4 - divisão')\n",
    "op = int(input('Digite sua opção: '))"
   ]
  },
  {
   "cell_type": "code",
   "execution_count": 2,
   "id": "74c5d6f1",
   "metadata": {},
   "outputs": [],
   "source": [
    "lista =[1,2,3,4]"
   ]
  },
  {
   "cell_type": "code",
   "execution_count": 2,
   "id": "9a4791ff",
   "metadata": {},
   "outputs": [
    {
     "name": "stdout",
     "output_type": "stream",
     "text": [
      "Digite o primeiro número: 20\n",
      "Digite o segundo número: 30\n"
     ]
    }
   ],
   "source": [
    "p_num = float(input('Digite o primeiro número: '))\n",
    "s_num = float(input('Digite o segundo número: '))"
   ]
  },
  {
   "cell_type": "code",
   "execution_count": 3,
   "id": "463c6134",
   "metadata": {},
   "outputs": [
    {
     "ename": "NameError",
     "evalue": "name 'lista' is not defined",
     "output_type": "error",
     "traceback": [
      "\u001b[1;31m---------------------------------------------------------------------------\u001b[0m",
      "\u001b[1;31mNameError\u001b[0m                                 Traceback (most recent call last)",
      "Cell \u001b[1;32mIn[3], line 1\u001b[0m\n\u001b[1;32m----> 1\u001b[0m \u001b[38;5;28;01mif\u001b[39;00m op \u001b[38;5;129;01mnot\u001b[39;00m \u001b[38;5;129;01min\u001b[39;00m lista:\n\u001b[0;32m      2\u001b[0m         \u001b[38;5;28mprint\u001b[39m(\u001b[38;5;124m'\u001b[39m\u001b[38;5;124mOpção inválida \u001b[39m\u001b[38;5;130;01m\\n\u001b[39;00m\u001b[38;5;124m'\u001b[39m)\n\u001b[0;32m      3\u001b[0m         op \u001b[38;5;241m=\u001b[39m \u001b[38;5;28mint\u001b[39m(\u001b[38;5;28minput\u001b[39m(\u001b[38;5;124m'\u001b[39m\u001b[38;5;124mDigite a opção entre 1 e 4: \u001b[39m\u001b[38;5;124m'\u001b[39m))\n",
      "\u001b[1;31mNameError\u001b[0m: name 'lista' is not defined"
     ]
    }
   ],
   "source": [
    "if op not in lista:\n",
    "        print('Opção inválida \\n')\n",
    "        op = int(input('Digite a opção entre 1 e 4: '))\n",
    "        p_num = float(input('Digite o primeiro número: \\n'))\n",
    "        s_num = float(input('Digite o segundo número: '))\n",
    "        if op == 1:\n",
    "            soma = p_num + s_num\n",
    "            print(p_num, '+', s_num, '=', soma)\n",
    "        elif op == 2: \n",
    "            sub = p_num - s_num\n",
    "            print(p_num, '-', s_num, '=', sub)\n",
    "        elif op == 3:\n",
    "            mult = p_num * s_num\n",
    "            print(p_num, '*', s_num, '=', mult)\n",
    "        else:\n",
    "            div = p_num / s_num\n",
    "            print(p_num, '/', s_num, '=', div)\n",
    "else: \n",
    "    if op == 1:\n",
    "        soma = p_num + s_num\n",
    "        print(p_num, '+', s_num, '=', soma)\n",
    "    elif op == 2: \n",
    "        sub = p_num - s_num\n",
    "        print(p_num, '-', s_num, '=', sub)\n",
    "    elif op == 3:\n",
    "        mult = p_num * s_num\n",
    "        print(p_num, '*', s_num, '=', mult)\n",
    "    else:\n",
    "        div = p_num / s_num\n",
    "        print(p_num, '/', s_num, '=', div)\n",
    "        \n",
    "        "
   ]
  },
  {
   "cell_type": "code",
   "execution_count": null,
   "id": "c3870c58",
   "metadata": {},
   "outputs": [],
   "source": []
  }
 ],
 "metadata": {
  "kernelspec": {
   "display_name": "Python 3 (ipykernel)",
   "language": "python",
   "name": "python3"
  },
  "language_info": {
   "codemirror_mode": {
    "name": "ipython",
    "version": 3
   },
   "file_extension": ".py",
   "mimetype": "text/x-python",
   "name": "python",
   "nbconvert_exporter": "python",
   "pygments_lexer": "ipython3",
   "version": "3.11.5"
  }
 },
 "nbformat": 4,
 "nbformat_minor": 5
}
