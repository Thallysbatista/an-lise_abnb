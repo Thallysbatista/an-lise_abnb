{
 "cells": [
  {
   "cell_type": "code",
   "execution_count": null,
   "id": "7b7b30bc",
   "metadata": {},
   "outputs": [
    {
     "name": "stdout",
     "output_type": "stream",
     "text": [
      "--------------- Calculadora em Python --------------- \n",
      "\n",
      "Selecione a opção desejada: \n",
      "\n",
      "1 - soma\n",
      "2 - subtração\n",
      "3 - multiplicação\n",
      "4 - divisão\n"
     ]
    }
   ],
   "source": [
    "print('-'*15, 'Calculadora em Python', '-'*15, '\\n')\n",
    "print('Selecione a opção desejada: \\n')\n",
    "print('1 - soma')\n",
    "print('2 - subtração')\n",
    "print('3 - multiplicação')\n",
    "print('4 - divisão')\n",
    "op = int(input('Digite sua opção: '))"
   ]
  },
  {
   "cell_type": "code",
   "execution_count": null,
   "id": "bd7f3edb",
   "metadata": {},
   "outputs": [],
   "source": [
    "lista =[1,2,3,4]"
   ]
  },
  {
   "cell_type": "code",
   "execution_count": null,
   "id": "91943454",
   "metadata": {},
   "outputs": [],
   "source": [
    "p_num = float(input('Digite o primeiro número: '))\n",
    "s_num = float(input('Digite o segundo número: '))"
   ]
  },
  {
   "cell_type": "code",
   "execution_count": null,
   "id": "463c6134",
   "metadata": {},
   "outputs": [],
   "source": [
    "if op not in lista:\n",
    "        print('Opção inválida \\n')\n",
    "        op = int(input('Digite a opção entre 1 e 4: '))\n",
    "        p_num = float(input('Digite o primeiro número: \\n'))\n",
    "        s_num = float(input('Digite o segundo número: '))\n",
    "        if op == 1:\n",
    "            soma = p_num + s_num\n",
    "            print(p_num, '+', s_num, '=', soma)\n",
    "        elif op == 2: \n",
    "            sub = p_num - s_num\n",
    "            print(p_num, '-', s_num, '=', sub)\n",
    "        elif op == 3:\n",
    "            mult = p_num * s_num\n",
    "            print(p_num, '*', s_num, '=', mult)\n",
    "        else:\n",
    "            div = p_num / s_num\n",
    "            print(p_num, '/', s_num, '=', div)\n",
    "else: \n",
    "    if op == 1:\n",
    "        soma = p_num + s_num\n",
    "        print(p_num, '+', s_num, '=', soma)\n",
    "    elif op == 2: \n",
    "        sub = p_num - s_num\n",
    "        print(p_num, '-', s_num, '=', sub)\n",
    "    elif op == 3:\n",
    "        mult = p_num * s_num\n",
    "        print(p_num, '*', s_num, '=', mult)\n",
    "    else:\n",
    "        div = p_num / s_num\n",
    "        print(p_num, '/', s_num, '=', div)\n",
    "        \n",
    "        "
   ]
  }
 ],
 "metadata": {
  "kernelspec": {
   "display_name": "Python 3 (ipykernel)",
   "language": "python",
   "name": "python3"
  },
  "language_info": {
   "codemirror_mode": {
    "name": "ipython",
    "version": 3
   },
   "file_extension": ".py",
   "mimetype": "text/x-python",
   "name": "python",
   "nbconvert_exporter": "python",
   "pygments_lexer": "ipython3",
   "version": "3.11.5"
  }
 },
 "nbformat": 4,
 "nbformat_minor": 5
}
