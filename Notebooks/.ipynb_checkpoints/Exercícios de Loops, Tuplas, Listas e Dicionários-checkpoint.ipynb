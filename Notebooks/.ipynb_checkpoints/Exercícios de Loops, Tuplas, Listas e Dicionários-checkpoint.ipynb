{
 "cells": [
  {
   "cell_type": "markdown",
   "metadata": {},
   "source": [
    "# <font color='blue'>Data Science Academy</font>\n",
    "\n",
    "## <font color='blue'>Capítulo 5 - Exercícios de Loops, Tuplas, Listas e Dicionários</font>"
   ]
  },
  {
   "cell_type": "markdown",
   "metadata": {},
   "source": [
    "- # **Atividades Curso em Video**"
   ]
  },
  {
   "cell_type": "markdown",
   "metadata": {},
   "source": [
    "- #### 1 - Faça um programa que leia M/F que será o sexo de uma pessoa, e que repita a pergunta até receber a resposta correta."
   ]
  },
  {
   "cell_type": "code",
   "execution_count": 8,
   "metadata": {},
   "outputs": [
    {
     "name": "stdout",
     "output_type": "stream",
     "text": [
      "Digite seu sexo (M/F): M\n"
     ]
    }
   ],
   "source": [
    "sexo = ' '\n",
    "while sexo != 'M' and sexo != 'F':\n",
    "        sexo = str(input('Digite seu sexo (M/F): '))\n",
    "\n",
    "   "
   ]
  },
  {
   "cell_type": "markdown",
   "metadata": {},
   "source": [
    "- #### 2 - Crie um programa que leia 2 números na tela e mostre um menu e realize a operação solicitada."
   ]
  },
  {
   "cell_type": "code",
   "execution_count": 1,
   "metadata": {
    "collapsed": true
   },
   "outputs": [
    {
     "name": "stdout",
     "output_type": "stream",
     "text": [
      "Digite o 1º valor: 10\n",
      "Digite o 2º valor: 1\n",
      "Digite a operação que deseja realizar: \n",
      " [1] SOMAR \n",
      " [2] SUBTRAIR \n",
      " [3] MAIOR \n",
      " [4] NOVOS NÚMEROS \n",
      " [5] SAIR \n",
      "4\n",
      "Digite novos números: \n",
      "\n",
      "Digite o 3º valor: 8\n",
      "Digite o 4º valor: 8\n",
      "Digite a operação que deseja realizar: \n",
      " [1] SOMAR \n",
      " [2] SUBTRAIR \n",
      " [3] MAIOR \n",
      " [4] NOVOS NÚMEROS \n",
      " [5] SAIR \n",
      "2\n",
      "Você digitou: 2\n",
      "A subtração é: 0\n",
      "Digite a operação que deseja realizar: \n",
      " [1] SOMAR \n",
      " [2] SUBTRAIR \n",
      " [3] MAIOR \n",
      " [4] NOVOS NÚMEROS \n",
      " [5] SAIR \n",
      "4\n",
      "Digite novos números: \n",
      "\n",
      "Digite o 3º valor: 10\n",
      "Digite o 4º valor: 5\n",
      "Digite a operação que deseja realizar: \n",
      " [1] SOMAR \n",
      " [2] SUBTRAIR \n",
      " [3] MAIOR \n",
      " [4] NOVOS NÚMEROS \n",
      " [5] SAIR \n",
      "3\n",
      "Você digitou: 3\n",
      "O número maior é: 10\n",
      "Digite a operação que deseja realizar: \n",
      " [1] SOMAR \n",
      " [2] SUBTRAIR \n",
      " [3] MAIOR \n",
      " [4] NOVOS NÚMEROS \n",
      " [5] SAIR \n",
      "6\n",
      "Programa encerrado\n",
      "Digite a operação que deseja realizar: \n",
      " [1] SOMAR \n",
      " [2] SUBTRAIR \n",
      " [3] MAIOR \n",
      " [4] NOVOS NÚMEROS \n",
      " [5] SAIR \n",
      "5\n",
      "Programa encerrado\n"
     ]
    }
   ],
   "source": [
    "num1 = int(input('Digite o 1º valor: '))\n",
    "num2 = int(input('Digite o 2º valor: '))\n",
    "operacao = ''\n",
    "while operacao != 5:\n",
    "    operacao = int(input('Digite a operação que deseja realizar: \\n [1] SOMAR \\n [2] SUBTRAIR \\n [3] MAIOR \\n [4] NOVOS NÚMEROS \\n [5] SAIR \\n'))\n",
    "    if operacao == 1:\n",
    "        soma = num1 + num2\n",
    "        print('Você digitou: {}'.format(operacao))\n",
    "        print('A soma é de: {}'.format(soma))\n",
    "    elif operacao == 2:\n",
    "        sub = num1 - num2\n",
    "        print('Você digitou: {}'.format(operacao))\n",
    "        print('A subtração é: {}'.format(sub))\n",
    "    elif operacao == 3:\n",
    "        maior = max(num1,num2)\n",
    "        print('Você digitou: {}'.format(operacao))\n",
    "        print('O número maior é: {}'.format(maior))\n",
    "    elif operacao == 4:\n",
    "        print('Digite novos números: \\n')\n",
    "        num1 = int(input('Digite o 3º valor: '))\n",
    "        num2 = int(input('Digite o 4º valor: '))\n",
    "    else:\n",
    "        print('Programa encerrado')"
   ]
  },
  {
   "cell_type": "markdown",
   "metadata": {},
   "source": [
    "- #### 3 - Faça um programa que leia um número qualquer e retorne seu fatorial "
   ]
  },
  {
   "cell_type": "code",
   "execution_count": 3,
   "metadata": {},
   "outputs": [
    {
     "name": "stdout",
     "output_type": "stream",
     "text": [
      "Digite o número que deseja saber seu fatorial: 5\n",
      "Calculado 5!: O fatorial de 5 é: 120\n"
     ]
    }
   ],
   "source": [
    "num = int(input('Digite o número que deseja saber seu fatorial: '))\n",
    "# C: é o contador que começa com o número do fatorial\n",
    "c = num \n",
    "# O fator nulo da multiplicação é 1, logo, deve-se começar com 1, pois, não altera a multiplicação\n",
    "f = 1 \n",
    "print('Calculado {}!: '.format(num), end ='')\n",
    "\n",
    "# O contador deve parar em 1, ou seja, precisa ser maior que zero.\n",
    "while c > 0:\n",
    "    print('{}'.format(c), end = '') #Opcional \n",
    "    print(' x ' if c > 1 else ' = ', end='') #Opcional \n",
    "    f *= c\n",
    "    c-= 1 # Para ir reduzir o contador até 1\n",
    "print('O fatorial de {} é: {}'.format(num, f))"
   ]
  },
  {
   "cell_type": "code",
   "execution_count": 2,
   "metadata": {},
   "outputs": [
    {
     "name": "stdout",
     "output_type": "stream",
     "text": [
      "Digite o número que deseja saber seu fatorial: 5\n",
      "O fatorial de 5 é: 120\n"
     ]
    }
   ],
   "source": [
    "num = int(input('Digite o número que deseja saber seu fatorial: '))\n",
    "\n",
    "fatorial = 1\n",
    "for i in range(1, num + 1):\n",
    "    fatorial *= i\n",
    "\n",
    "print(\"O fatorial de {} é: {}\".format(num, fatorial))\n",
    "\n",
    "\n"
   ]
  },
  {
   "cell_type": "markdown",
   "metadata": {},
   "source": [
    "- #### Desenvolva um programa que leia o 1° termo e a razão de uma PA. No final mostre os 10 primeiros termos dessa PA."
   ]
  },
  {
   "cell_type": "code",
   "execution_count": 4,
   "metadata": {},
   "outputs": [
    {
     "name": "stdout",
     "output_type": "stream",
     "text": [
      "Digite o 1º termo dessa PA: 5\n",
      "Digite aqui a razão dessa PA: 5\n",
      "5 →  10 →  15 →  20 →  25 →  30 →  35 →  40 →  45 →  50 →  FIM\n"
     ]
    }
   ],
   "source": [
    "ptermo = int(input('Digite o 1º termo dessa PA: '))\n",
    "r = int(input('Digite aqui a razão dessa PA: '))\n",
    "cont = 1\n",
    "while cont <= 10:\n",
    "    print('{} → '.format(ptermo), end = ' ')\n",
    "    ptermo += r\n",
    "    cont += 1\n",
    "print('FIM')\n",
    "    \n"
   ]
  },
  {
   "cell_type": "code",
   "execution_count": 1,
   "metadata": {},
   "outputs": [
    {
     "name": "stdout",
     "output_type": "stream",
     "text": [
      "Digite o 1º termo dessa PA: 0\n",
      "Digite aqui a razão dessa PA: 5\n",
      "0 →  5 →  10 →  15 →  20 →  25 →  30 →  35 →  40 →  45 →  PAUSA\n",
      "Você quer ver mais quantos termos? 5\n",
      "50 →  55 →  60 →  65 →  70 →  PAUSA\n",
      "Você quer ver mais quantos termos? 5\n",
      "75 →  80 →  85 →  90 →  95 →  PAUSA\n",
      "Você quer ver mais quantos termos? 0\n",
      "FIM\n"
     ]
    }
   ],
   "source": [
    "ptermo = int(input('Digite o 1º termo dessa PA: '))\n",
    "r = int(input('Digite aqui a razão dessa PA: '))\n",
    "cont = 1\n",
    "total = 0\n",
    "x = 10\n",
    "while x != 0:\n",
    "    total += x\n",
    "    while cont <= total:\n",
    "        print('{} → '.format(ptermo), end = ' ')\n",
    "        ptermo += r\n",
    "        cont += 1 \n",
    "    print('PAUSA')\n",
    "    x = int(input('Você quer ver mais quantos termos? '))\n",
    "print('FIM')"
   ]
  },
  {
   "cell_type": "code",
   "execution_count": 1,
   "metadata": {},
   "outputs": [
    {
     "name": "stdout",
     "output_type": "stream",
     "text": [
      "Primeiro termo: 0\n",
      "Razão: 5\n",
      "0 5 10 15 20 25 30 35 40 45 \n",
      "Acrescentar mais números na sequência: 0\n",
      "Fim\n"
     ]
    }
   ],
   "source": [
    "# Outra forma de solução\n",
    "\n",
    "ptermo = int(input('Primeiro termo: '))\n",
    "r = int(input('Razão: '))\n",
    "c = 10\n",
    "while c > 0:\n",
    "    print(ptermo, end=' → ')\n",
    "    ptermo += r\n",
    "    c -= 1\n",
    "    if c == 0:\n",
    "        c = int(input('\\nAcrescentar mais números na sequência: '))\n",
    "print('Fim')"
   ]
  },
  {
   "cell_type": "markdown",
   "metadata": {},
   "source": [
    "- #### Desenvolva um programa que leia um número inteiro n e mostre na tela os n primeiros elementos da sequência de fibonacci "
   ]
  },
  {
   "cell_type": "code",
   "execution_count": 5,
   "metadata": {
    "collapsed": true
   },
   "outputs": [
    {
     "name": "stdout",
     "output_type": "stream",
     "text": [
      "Digite quantos elementos da sequência de fibonacci deseja ver: 8\n",
      "1 → 1 → 2 → 3 → 5 → 8 → 13 → 21 → FIM\n"
     ]
    }
   ],
   "source": [
    "ntermo = int(input('Digite quantos elementos da sequência de fibonacci deseja ver: '))\n",
    "t1 = 1\n",
    "t2 = 1\n",
    "print('{} → {}'. format(t1,t2), end='')\n",
    "t3 = t1+t2\n",
    "cont = 3\n",
    "while cont <= ntermo:\n",
    "    t3 = t1 + t2 \n",
    "    print(' → {}'.format(t3), end='')\n",
    "    t1 = t2  # Aqui, os valores de t1 e t2 são atualizados para os próximos termos na sequência de Fibonacci. t1 recebe o valor atual de t2 e t2 recebe o valor atual de t3.\n",
    "    t2 = t3\n",
    "    cont += 1 # A cada iteração do loop, o contador cont é incrementado em 1. Isso é feito para acompanhar o número de termos já impressos na sequência.\n",
    "print(' → FIM')\n",
    "    "
   ]
  },
  {
   "cell_type": "markdown",
   "metadata": {},
   "source": [
    "- #### Crie um programa que leia vários números. O programa só vai parar quando digitar 999. Ao final, mostra quantos números foram digitados e a soma entre eles."
   ]
  },
  {
   "cell_type": "code",
   "execution_count": 3,
   "metadata": {
    "collapsed": true
   },
   "outputs": [
    {
     "name": "stdout",
     "output_type": "stream",
     "text": [
      "Digite um número: 0\n",
      "Digite um número: 2\n",
      "Digite um número: 999\n",
      "Você digitou 2 números e a sua soma foi de 2\n"
     ]
    }
   ],
   "source": [
    "num = cont = soma = 0\n",
    "while num != 999:\n",
    "    num = int(input('Digite um número: ')) \n",
    "    if num != 999:\n",
    "        soma += num\n",
    "        cont += 1\n",
    "print('Você digitou {} números e a sua soma foi de {}'.format(cont, soma))"
   ]
  },
  {
   "cell_type": "markdown",
   "metadata": {},
   "source": [
    "- #### Crie um programa que leia vários números. Ao final mostre a média entre todos os valores, o maior e o menor. O program deve perguntar ao usuário se deseja continuar ou não."
   ]
  },
  {
   "cell_type": "code",
   "execution_count": 7,
   "metadata": {
    "collapsed": true
   },
   "outputs": [
    {
     "name": "stdout",
     "output_type": "stream",
     "text": [
      "Digite um número: 10\n",
      "Quer continuar [S/N]? s\n",
      "Digite um número: 20\n",
      "Quer continuar [S/N]? s\n",
      "Digite um número: 30\n",
      "Quer continuar [S/N]? n\n",
      "A média foi de 20.0, o maior valor foi de 30 e o menor 10\n"
     ]
    }
   ],
   "source": [
    "num = soma = cont = 0\n",
    "lista = []\n",
    "p = ''\n",
    "while p.lower() != 'n':\n",
    "    num = int(input('Digite um número: '))\n",
    "    p = str(input('Quer continuar [S/N]? ')).strip() # Remove os espaços e considera apenas a primeira letra\n",
    "    cont += 1\n",
    "    soma += num\n",
    "    media = soma/cont\n",
    "    lista.append(num)\n",
    "#print('A média foi de {}, o maior valor foi de {} e o menor {}.'.format(media, max(lista), min(lista)))\n",
    "print(f'A média foi de {media}, o maior valor foi de {max(lista)} e o menor {min(lista)}')"
   ]
  },
  {
   "cell_type": "markdown",
   "metadata": {},
   "source": [
    "- ### **Atividades Curso em Video** - While com BREAK"
   ]
  },
  {
   "cell_type": "code",
   "execution_count": null,
   "metadata": {},
   "outputs": [],
   "source": [
    "num = cont = soma = 0\n",
    "while True:\n",
    "    num = int(input('Digite um número: ')) \n",
    "    if num == 999:\n",
    "        break\n",
    "    soma += num\n",
    "    cont += 1\n",
    "print('Você digitou {} números e a sua soma foi de {}'.format(cont, soma))"
   ]
  },
  {
   "cell_type": "markdown",
   "metadata": {},
   "source": [
    "- #### Crie um programa que mostre a tabuada de vários números e pare se o valor digitado for negativo. "
   ]
  },
  {
   "cell_type": "code",
   "execution_count": 6,
   "metadata": {
    "collapsed": true
   },
   "outputs": [
    {
     "name": "stdout",
     "output_type": "stream",
     "text": [
      "De qual número deseja saber a tabuada? 5\n",
      "5 x  0 = 0\n",
      "5 x  1 = 5\n",
      "5 x  2 = 10\n",
      "5 x  3 = 15\n",
      "5 x  4 = 20\n",
      "5 x  5 = 25\n",
      "5 x  6 = 30\n",
      "5 x  7 = 35\n",
      "5 x  8 = 40\n",
      "5 x  9 = 45\n",
      "De qual número deseja saber a tabuada? 6\n",
      "6 x  0 = 0\n",
      "6 x  1 = 6\n",
      "6 x  2 = 12\n",
      "6 x  3 = 18\n",
      "6 x  4 = 24\n",
      "6 x  5 = 30\n",
      "6 x  6 = 36\n",
      "6 x  7 = 42\n",
      "6 x  8 = 48\n",
      "6 x  9 = 54\n",
      "De qual número deseja saber a tabuada? -1\n",
      "Valor não aceito. Programa encerrado\n"
     ]
    }
   ],
   "source": [
    "num = 0\n",
    "while num >= 0:\n",
    "    num = int(input('De qual número deseja saber a tabuada? '))\n",
    "    if num < 0:\n",
    "        print('Valor não aceito. Programa encerrado')\n",
    "        break\n",
    "    for i in range(0,10):\n",
    "        print('{} x {:2} = {}'.format(num, i, num*i))"
   ]
  },
  {
   "cell_type": "markdown",
   "metadata": {},
   "source": [
    "- #### Crie um programa que jogue PAR ou ÍMPAR com o computador"
   ]
  },
  {
   "cell_type": "code",
   "execution_count": null,
   "metadata": {},
   "outputs": [],
   "source": [
    "from random import randint \n",
    "v = 0\n",
    "while True:\n",
    "    jogador = int(input('Diga um valor: '))\n",
    "    computador =  randint(0,11)\n",
    "    total = jogador + computador\n",
    "    tipo = ' '\n",
    "    while tipo not in 'PI':\n",
    "        tipo = str(input('Você quer Par ou Ímpar? [P / I]')).strip().upper()[0] # Retira espaços, tudo maíusculo, apenas primeiro caracter. \n",
    "    print(f'Você jogou {jogador}, o computador {computador} e o total foi {total}')\n",
    "    if tipo == 'P':\n",
    "        if total % 2 == 0:\n",
    "            print('Você ganhou')\n",
    "            v += 1\n",
    "        else:\n",
    "            print('Você Perdeu')\n",
    "            break\n",
    "    elif tipo == 'I':\n",
    "        if total % 2 == 1:\n",
    "            print('Você ganhou')\n",
    "            v += 1\n",
    "        else:\n",
    "            print('Você Perdeu')\n",
    "            break\n",
    "    print(f'Você ganhou {v} jogo(s)')"
   ]
  },
  {
   "cell_type": "markdown",
   "metadata": {},
   "source": [
    "- ### **Atividades Curso em Video** - TUPLAS"
   ]
  },
  {
   "cell_type": "code",
   "execution_count": 9,
   "metadata": {},
   "outputs": [
    {
     "name": "stdout",
     "output_type": "stream",
     "text": [
      "Digite um número entre 0 e 20: 25\n",
      "Digite um número entre 0 e 20: 25\n",
      "Digite um número entre 0 e 20: 20\n",
      "O número escolhido foi: vinte\n"
     ]
    }
   ],
   "source": [
    "extensos = ('zero', 'um', 'dois', 'três','quatro', 'cinco', 'seis', 'sete', 'oito','nove','dez', 'onze', 'doze', 'treze', 'quatorze','quinze', 'dezesseis', 'dezessete', 'dezoito', 'dezenove', 'vinte')\n",
    "num = int(input('Digite um número entre 0 e 20: '))\n",
    "\n",
    "while num > 20:\n",
    "    num = int(input('Digite um número entre 0 e 20: '))  \n",
    "    \n",
    "print(f'O número escolhido foi: {extensos[num]}')"
   ]
  },
  {
   "cell_type": "markdown",
   "metadata": {},
   "source": [
    "**---------------------------------------------------------------------------------------------------------------------------------------------------------------------------**"
   ]
  },
  {
   "cell_type": "code",
   "execution_count": 28,
   "metadata": {
    "collapsed": true
   },
   "outputs": [
    {
     "name": "stdout",
     "output_type": "stream",
     "text": [
      "Os 5 primeiros são:  ('Flamengo', 'Internacional', 'Atlético Mineiro', 'São Paulo', 'Fluminense')\n",
      "====================================================================================================\n",
      "Os 4 últimos são:  ('Vasco da Gama', 'Goiás', 'Coritiba', 'Botafogo')\n",
      "====================================================================================================\n",
      "['Athletico Paranaense', 'Atlético Goianiense', 'Atlético Mineiro', 'Bahia', 'Botafogo', 'Ceará', 'Corinthians', 'Coritiba', 'Flamengo', 'Fluminense', 'Fortaleza', 'Goiás', 'Grêmio', 'Internacional', 'Palmeiras', 'Red Bull Bragantino', 'Santos', 'Sport', 'São Paulo', 'Vasco da Gama']\n",
      "====================================================================================================\n",
      "O Athletico Paranaense está na posição 9\n"
     ]
    }
   ],
   "source": [
    "classificacao = (\"Flamengo\", \"Internacional\", \"Atlético Mineiro\", \"São Paulo\", \"Fluminense\",\"Grêmio\", \"Palmeiras\", \"Santos\", \"Athletico Paranaense\", \"Red Bull Bragantino\",\"Ceará\", \"Corinthians\", \"Atlético Goianiense\", \"Bahia\", \"Sport\", \"Fortaleza\",\n",
    "\"Vasco da Gama\", \"Goiás\", \"Coritiba\", \"Botafogo\")\n",
    "\n",
    "print('Os 5 primeiros são: ', classificacao[0:5])\n",
    "print('=='*50)\n",
    "print('Os 4 últimos são: ', classificacao[-4:])\n",
    "print('=='*50)\n",
    "print(sorted(classificacao)) # Ordem alfabética\n",
    "print('=='*50)\n",
    "print(f'O Athletico Paranaense está na posição {classificacao.index(\"Athletico Paranaense\") +1}')"
   ]
  },
  {
   "cell_type": "markdown",
   "metadata": {},
   "source": [
    "**---------------------------------------------------------------------------------------------------------------------------------------------------------------------------**"
   ]
  },
  {
   "cell_type": "code",
   "execution_count": 80,
   "metadata": {
    "collapsed": true
   },
   "outputs": [
    {
     "name": "stdout",
     "output_type": "stream",
     "text": [
      "Digite um número: 2\n",
      "Digite um número: 4\n",
      "Digite um número: 3\n",
      "Digite um número: 9\n",
      "O número 9 apareceu: 1 vezes\n",
      "O primeiro nº 3 está na posição 2\n",
      "Os valores pares são: [2, 4]\n"
     ]
    }
   ],
   "source": [
    "num = (int(input('Digite um número: ')), int(input('Digite um número: ')), int(input('Digite um número: ')), int(input('Digite um número: ')))\n",
    "\n",
    "print(f'O número 9 apareceu: {num.count(9)} vezes')\n",
    "\n",
    "if 3 not in num:\n",
    "    print('O valor 3 não foi digitado!')\n",
    "else: \n",
    "    print(f'O primeiro nº 3 está na posição {num.index(3)}')\n",
    "\n",
    "numeros_pares = [n for n in num if n % 2 == 0]\n",
    "print(f'Os valores pares são: {numeros_pares}')\n",
    "\n",
    "# Outra forma:\n",
    "# for n in num:\n",
    "    # if n % 2 ==0:\n",
    "        # print(n, end = '')"
   ]
  },
  {
   "cell_type": "markdown",
   "metadata": {},
   "source": [
    "**---------------------------------------------------------------------------------------------------------------------------------------------------------------------------**"
   ]
  },
  {
   "cell_type": "code",
   "execution_count": 15,
   "metadata": {},
   "outputs": [
    {
     "name": "stdout",
     "output_type": "stream",
     "text": [
      "Na palavra ARGENTINA temos:  a e i a \n",
      "Na palavra BRASIL temos:  a i \n",
      "Na palavra COLOMBIA temos:  o o i a \n",
      "Na palavra URUGUAI temos:  u u u a i \n"
     ]
    }
   ],
   "source": [
    "palavras = (\"argentina\", \"brasil\", \"colombia\", \"uruguai\")\n",
    "vogais = ('a', 'e', 'i', 'o', 'u')\n",
    "for i in palavras:  # Para cada palavra da tupla, faça:\n",
    "    print(f'Na palavra {i.upper()} temos: ', end=' ')\n",
    "    for j in i: # Para cada letra (j) de cada palavra (i)\n",
    "        if j.lower() in vogais: # Se cada letra estiver dentro da tupla vogais, faça:\n",
    "            print(j, end=' ')\n",
    "    print()"
   ]
  },
  {
   "cell_type": "markdown",
   "metadata": {},
   "source": [
    "**---------------------------------------------------------------------------------------------------------------------------------------------------------------------------**"
   ]
  },
  {
   "cell_type": "markdown",
   "metadata": {},
   "source": [
    "- ### **Atividades Curso em Video** - LISTAS"
   ]
  },
  {
   "cell_type": "markdown",
   "metadata": {},
   "source": [
    "#### Faça um programa que leia 5 valores e guarde-os em uma lista. No final mostre qual foi o maior e o menor valor e suas posições."
   ]
  },
  {
   "cell_type": "code",
   "execution_count": 14,
   "metadata": {},
   "outputs": [
    {
     "name": "stdout",
     "output_type": "stream",
     "text": [
      "Digite um número: para posição 0: 10\n",
      "Digite um número: para posição 1: 10\n",
      "Digite um número: para posição 2: 2\n",
      "Digite um número: para posição 3: 2\n",
      "Digite um número: para posição 4: 3\n",
      "---------------------------------------------\n",
      "Você digitou os valores: [10, 10, 2, 2, 3]\n",
      "---------------------------------------------\n",
      "O maior valor digitado foi: 10 na(s) posições: \n",
      "0...1...\n",
      "O menor valor digitado foi: 2 na posição: \n",
      "2...3..."
     ]
    }
   ],
   "source": [
    "lista = []\n",
    "\n",
    "for i in range(0,5):\n",
    "    lista.append(int((input(f'Digite um número: para posição {i}: '))))\n",
    "    \n",
    "print('---------'*5)\n",
    "print(f'Você digitou os valores: {lista}')\n",
    "print('---------'*5)\n",
    "\n",
    "print(f'O maior valor digitado foi: {max(lista)} na(s) posições: ')\n",
    "for n, i in enumerate(lista):\n",
    "    if i == max(lista):\n",
    "        print(f'{n}...', end='')\n",
    "print(f'\\nO menor valor digitado foi: {min(lista)} na posição: ')\n",
    "for n, i in enumerate(lista):\n",
    "    if i == min(lista):\n",
    "        print(f'{n}...', end='')"
   ]
  },
  {
   "cell_type": "markdown",
   "metadata": {},
   "source": [
    "- #### Crie um programa onde o usuário possa digitar vários valores numéricos e cadastre-os em uma lista. Caso o número já existe lá dentro, ele não será adicionado. No final serão mostrados todos os valores únicos adicionados"
   ]
  },
  {
   "cell_type": "code",
   "execution_count": 7,
   "metadata": {
    "collapsed": true
   },
   "outputs": [
    {
     "name": "stdout",
     "output_type": "stream",
     "text": [
      "Digitei um número: 10\n",
      "Quer continuar [S/N]? S\n",
      "Digitei um número: 10\n",
      "Valor duplicado, não vou adicionar!\n",
      "Quer continuar [S/N]? s\n",
      "Digitei um número: 10\n",
      "Valor duplicado, não vou adicionar!\n",
      "Quer continuar [S/N]? 5\n",
      "Digitei um número: 9\n",
      "Quer continuar [S/N]? s\n",
      "Digitei um número: 8\n",
      "Quer continuar [S/N]? s\n",
      "Digitei um número: 8\n",
      "Valor duplicado, não vou adicionar!\n",
      "Quer continuar [S/N]? n\n",
      "[10, 9, 8]\n"
     ]
    }
   ],
   "source": [
    "lista = []\n",
    "p =''\n",
    "while p.lower() != 'n':\n",
    "    x = int(input('Digitei um número: '))\n",
    "    if x not in lista:\n",
    "        lista.append(x)\n",
    "    else:\n",
    "        print('Valor duplicado, não vou adicionar!')\n",
    "    \n",
    "    p = str(input('Quer continuar [S/N]? ')).strip() # Remove os espaços e considera apenas a primeira letra\n",
    "print(lista)"
   ]
  },
  {
   "cell_type": "code",
   "execution_count": 10,
   "metadata": {
    "collapsed": true
   },
   "outputs": [
    {
     "name": "stdout",
     "output_type": "stream",
     "text": [
      "Digitei um número: 10\n",
      "Quer continuar [S/N]? s\n",
      "Digitei um número: 2\n",
      "Quer continuar [S/N]? s\n",
      "Digitei um número: 2\n",
      "Valor duplicado, não vou adicionar!\n",
      "Quer continuar [S/N]? 3\n",
      "Digitei um número: 9\n",
      "Quer continuar [S/N]? s\n",
      "Digitei um número: 3\n",
      "Quer continuar [S/N]? n\n",
      "[10, 2, 9, 3]\n"
     ]
    }
   ],
   "source": [
    "lista = []\n",
    "p =''\n",
    "while True:\n",
    "    x = int(input('Digitei um número: '))\n",
    "    if x not in lista:\n",
    "        lista.append(x)\n",
    "    else:\n",
    "        print('Valor duplicado, não vou adicionar!')\n",
    "    p = str(input('Quer continuar [S/N]? ')).strip() # Remove os espaços e considera apenas a primeira letra \n",
    "    if p in 'Nn':\n",
    "        break\n",
    "print(lista)"
   ]
  },
  {
   "cell_type": "markdown",
   "metadata": {},
   "source": [
    "- #### Crie um programa que vai ler vários números e colocar em uma lista. Depois disso, mostre: quantos números foram digitados, a lista de valores ordenado em decrescente, se o valor 5 foi digitado e está ou não na lista"
   ]
  },
  {
   "cell_type": "code",
   "execution_count": 6,
   "metadata": {
    "collapsed": true
   },
   "outputs": [
    {
     "name": "stdout",
     "output_type": "stream",
     "text": [
      "Digite um número: 10\n",
      "Quer continuar [S/N] ?s\n",
      "Digite um número: 2\n",
      "Quer continuar [S/N] ?s\n",
      "Digite um número: 5\n",
      "Quer continuar [S/N] ?n\n",
      "Foram digitados 3 números \n",
      "[10, 5, 2]\n",
      "O nº 5 foi add e está na lista\n"
     ]
    }
   ],
   "source": [
    "numbers = []\n",
    "question = ''\n",
    "while True:\n",
    "    numbers.append(int(input('Digite um número: ')))\n",
    "    question =str(input('Quer continuar [S/N] ? ')).lower().strip()\n",
    "    if question in 'Nn':\n",
    "        break\n",
    "print(f'Foram digitados {len(numbers)} números ')\n",
    "numbers.sort(reverse =True)\n",
    "print(numbers)\n",
    "if 5 in numbers:\n",
    "    print('O nº 5 foi add e está na lista')\n",
    "else:\n",
    "    print('O nº 5 está na lista')\n"
   ]
  },
  {
   "cell_type": "markdown",
   "metadata": {},
   "source": [
    "- #### Crie um programa que vai ler vários números e colocar em uma lista. Depois disso, crie duas listas que vão conter apenas os números pares e ímpares. Ao final, mostre as 3 listas."
   ]
  },
  {
   "cell_type": "code",
   "execution_count": 13,
   "metadata": {},
   "outputs": [
    {
     "name": "stdout",
     "output_type": "stream",
     "text": [
      "Digite um número: 1\n",
      "Quer continuar? [S/N]: s\n",
      "Digite um número: 2\n",
      "Quer continuar? [S/N]: s\n",
      "Digite um número: 3\n",
      "Quer continuar? [S/N]: n\n",
      "The whole list: [1, 2, 3]\n",
      "The even numbers: [2]\n",
      "The odd numbers: [1, 3]\n"
     ]
    }
   ],
   "source": [
    "numbers = []\n",
    "even = []\n",
    "odd = []\n",
    "\n",
    "while True:\n",
    "    x = int(input('Digite um número: '))\n",
    "    numbers.append(x)\n",
    "    ask = str(input('Quer continuar? [S/N]: ')).lower().strip()\n",
    "    \n",
    "    if x % 2 == 0:\n",
    "        even.append(x)\n",
    "    else:\n",
    "        odd.append(x)\n",
    "        \n",
    "    if ask in 'n':\n",
    "        break\n",
    "    \n",
    "print(f'The whole list: {numbers}')\n",
    "print(f'The even numbers: {even}')\n",
    "print(f'The odd numbers: {odd}')"
   ]
  },
  {
   "cell_type": "markdown",
   "metadata": {},
   "source": [
    "#### Faça um programa que leia o nome e peso de várias pessoas, guardando tudo em uma lista. Ao final, mostre: quantas pessoas foram cadastradas, uma lista com as pessoas mais pesadas e outra com as mais leves"
   ]
  },
  {
   "cell_type": "code",
   "execution_count": null,
   "metadata": {},
   "outputs": [],
   "source": [
    "people = []\n",
    "dados = []\n",
    "while True:\n",
    "    dados.append(str(input('Name: ')))\n",
    "    dados.append(int(input('Weight: ')))\n",
    "    people.append(dados[:])\n",
    "    dados.clear()\n",
    "    ask = str(input('Do you want to continue? [Y/N] '))\n",
    "    if ask in 'Nn':\n",
    "        break\n",
    "        \n",
    "print('='*30)\n",
    "\n",
    "# Para cada elemento de people, retorne o índice 1.\n",
    "for i in people:\n",
    "    Weight = [i[1]] \n",
    "    \n",
    "    \n",
    "print(f'The wheightest person it was {max(Weight)}', end='')\n",
    "for n, i in enumerate(Weight):\n",
    "    if i == max(Weight):\n",
    "        print(f'{n}...')\n",
    "\n",
    "print('='*30)\n",
    "\n",
    "print(f' {len(people)} People were cadastred')\n",
    "\n",
    "print('='*30)\n",
    "\n",
    "print(f'The lightest person it was {min(Weight)}. Peso de ', end='')\n",
    "for n, i in enumerate(Weight):\n",
    "    if i == min(Weight):\n",
    "        print(f'{n}...')\n"
   ]
  },
  {
   "cell_type": "markdown",
   "metadata": {},
   "source": [
    "- #### Crie um programa onde o usuário possa digitar sete valores numéricos e cadastre-os em uma lista única que mantenha separados os valores pares e ímpares. No final, mostre os valores pares e ímpares em ordem crescente."
   ]
  },
  {
   "cell_type": "code",
   "execution_count": 25,
   "metadata": {
    "collapsed": true
   },
   "outputs": [
    {
     "name": "stdout",
     "output_type": "stream",
     "text": [
      "Digite um número: 13\n",
      "Digite um número: 19\n",
      "Digite um número: 18\n",
      "Digite um número: 20\n",
      "Digite um número: 17\n",
      "Digite um número: 26\n",
      "Digite um número: 12\n",
      "==============================\n",
      "The even's list it's [13, 17, 19]\n",
      "The odd's list it's [12, 18, 20, 26]\n"
     ]
    }
   ],
   "source": [
    "numbers = []\n",
    "odd = []\n",
    "even = []\n",
    "for i in range(0,7):\n",
    "    x = (int(input('Digite um número: ')))\n",
    "    if x % 2 == 0:\n",
    "        odd.append(x)\n",
    "    else:\n",
    "        even.append(x)\n",
    "print('='*30)\n",
    "odd.sort()\n",
    "even.sort()\n",
    "print(f\"The even's list it's {even}\")\n",
    "print(f\"The odd's list it's {odd}\")"
   ]
  },
  {
   "cell_type": "code",
   "execution_count": 3,
   "metadata": {},
   "outputs": [
    {
     "name": "stdout",
     "output_type": "stream",
     "text": [
      "Digite o 1º número: 29\n",
      "Digite o 2º número: 33\n",
      "Digite o 3º número: 17\n",
      "Digite o 4º número: 18\n",
      "Digite o 5º número: 36\n",
      "Digite o 6º número: 22\n",
      "Digite o 7º número: 28\n",
      "Os números pares foram os: [18, 22, 28, 36]\n",
      "Os números ímpares foram os: [17, 29, 33]\n"
     ]
    }
   ],
   "source": [
    "# Outra forma de resolver o problema acima:\n",
    "\n",
    "num = [ [], [] ]\n",
    "valor = 0\n",
    "\n",
    "for i in range(1,8):\n",
    "    valor = (int(input(f'Digite o {i}º número: ')))\n",
    "    if valor % 2 == 0:\n",
    "        num[0].append(valor)\n",
    "    else:\n",
    "        num[1].append(valor)\n",
    "num[0].sort()\n",
    "num[1].sort()\n",
    "print(f'Os números pares foram os: {num[0]}')\n",
    "print(f'Os números ímpares foram os: {num[1]}')"
   ]
  },
  {
   "cell_type": "markdown",
   "metadata": {},
   "source": [
    "- ####  Crie um programa que declare uma matriz de dimensão 3x3 e preencha com valores lidos pelo teclado. No final, mostre a matriz na tela, com a formatação correta."
   ]
  },
  {
   "cell_type": "code",
   "execution_count": 13,
   "metadata": {
    "collapsed": true
   },
   "outputs": [
    {
     "name": "stdout",
     "output_type": "stream",
     "text": [
      "Digite um número: 1\n",
      "Digite um número: 2\n",
      "Digite um número: 3\n",
      "Digite um número: 4\n",
      "Digite um número: 5\n",
      "Digite um número: 6\n",
      "Digite um número: 7\n",
      "Digite um número: 8\n",
      "Digite um número: 9\n",
      "[1, 2, 3]\n",
      "[4, 5, 6]\n",
      "[7, 8, 9]\n"
     ]
    }
   ],
   "source": [
    "matriz = [ [], [], [] ]\n",
    "\n",
    "for i in range(1,10):\n",
    "    x = int(input('Digite um número: '))\n",
    "    if i <= 3:\n",
    "        matriz[0].append(x)\n",
    "    elif i > 3 and i <= 6:\n",
    "        matriz[1].append(x)\n",
    "    else:\n",
    "        matriz[2].append(x)\n",
    "print(matriz[0])\n",
    "print(matriz[1])\n",
    "print(matriz[2])"
   ]
  },
  {
   "cell_type": "code",
   "execution_count": 3,
   "metadata": {},
   "outputs": [
    {
     "name": "stdout",
     "output_type": "stream",
     "text": [
      "Digite um valor para [0, 0]: 1\n",
      "Digite um valor para [0, 1]: 2\n",
      "Digite um valor para [0, 2]: 3\n",
      "Digite um valor para [1, 0]: 4\n",
      "Digite um valor para [1, 1]: 5\n",
      "Digite um valor para [1, 2]: 6\n",
      "Digite um valor para [2, 0]: 7\n",
      "Digite um valor para [2, 1]: 8\n",
      "Digite um valor para [2, 2]: 9\n",
      "============================================================\n",
      "[1][2][3]\n",
      "[4][5][6]\n",
      "[7][8][9]\n"
     ]
    }
   ],
   "source": [
    "# Outra forma:\n",
    "\n",
    "matriz = [ [0,0,0], [0,0,0], [0,0,0] ]\n",
    "\n",
    "for linha in range(0,3):\n",
    "    for coluna in range(0,3):\n",
    "        matriz[linha][coluna] = int(input(f'Digite um valor para [{linha}, {coluna}]: '))\n",
    "\n",
    "print('=='*30)\n",
    "\n",
    "for linha in range(0,3):\n",
    "    for coluna in range(0,3):\n",
    "        print(f'[{matriz[linha][coluna]:^5}]', end='') # :^5 ajuda a cetralizar o número com espaço \n",
    "    print() #Quebrar linha "
   ]
  },
  {
   "cell_type": "markdown",
   "metadata": {},
   "source": [
    "- ### **Atividades Curso em Video** - Dicionários"
   ]
  },
  {
   "cell_type": "markdown",
   "metadata": {},
   "source": [
    "- #### Faça um programa que leia nome e média de um aluno, guardando também a situação em um dicionário. No final, mostre o conteúdo da estrutura na tela."
   ]
  },
  {
   "cell_type": "code",
   "execution_count": 6,
   "metadata": {},
   "outputs": [
    {
     "name": "stdout",
     "output_type": "stream",
     "text": [
      "Nome: Thallys \n",
      "Média: 7.5\n",
      "==============================\n",
      "Nome = Thallys \n",
      "Média = 7.5\n",
      "==============================\n",
      "Situação = APROVADO\n",
      "{'nome': 'Thallys ', 'media': 7.5}\n"
     ]
    }
   ],
   "source": [
    "notas = {}\n",
    "notas['nome'] = str(input('Nome: '))\n",
    "notas['media'] = float(input('Média: '))\n",
    "print('='*30)\n",
    "print(f\"Nome = {notas['nome']}\")\n",
    "print(f\"Média = {notas['media']}\")\n",
    "print('='*30)\n",
    "if notas['media'] >= 7:\n",
    "    print('Situação = APROVADO')\n",
    "else:\n",
    "    print('REPROVADO')\n",
    "print(notas)"
   ]
  },
  {
   "cell_type": "markdown",
   "metadata": {},
   "source": [
    "- #### Faça um programa que tenha uma função chamada área(), que receba as dimensões de um terreno retangular (largura e comprimento) e mostre a área do terreno."
   ]
  },
  {
   "cell_type": "code",
   "execution_count": 2,
   "metadata": {},
   "outputs": [
    {
     "name": "stdout",
     "output_type": "stream",
     "text": [
      "Largura [m]: 10\n",
      "Comprimento [m]: 210\n",
      "A área do terreno 10 X 210 é de 2100m²\n"
     ]
    }
   ],
   "source": [
    "def area(x,y):\n",
    "    z = x*y\n",
    "    print(f'A área do terreno {x} X {y} é de {z}m²')\n",
    "largura = int(input('Largura [m]: '))\n",
    "comprimento = int(input('Comprimento [m]: '))\n",
    "area(largura, comprimento)"
   ]
  },
  {
   "cell_type": "markdown",
   "metadata": {},
   "source": [
    "- #### Faça um programa que tenha uma função chamada escreva(), que receba um texto qualquer como parâmetro e mostre uma mensagem com tamanho adaptável."
   ]
  },
  {
   "cell_type": "code",
   "execution_count": 6,
   "metadata": {},
   "outputs": [
    {
     "name": "stdout",
     "output_type": "stream",
     "text": [
      "~~\n",
      "Eu\n",
      "~~\n",
      "~~~~~~~~~~~~~~~\n",
      "Thallys Batista\n",
      "~~~~~~~~~~~~~~~\n"
     ]
    }
   ],
   "source": [
    "def escreva(msg):\n",
    "    x = len(msg)\n",
    "    print(f'~'*x)\n",
    "    print(msg)\n",
    "    print(f'~'*x)\n",
    "\n",
    "escreva('Eu')\n",
    "escreva('Thallys Batista')"
   ]
  },
  {
   "cell_type": "markdown",
   "metadata": {},
   "source": [
    "- #### Faça um programa que tenha uma função chamada contador(), que receba três parâmetros: início, fim e passo. Seu programa tem que realizar três contagens através da função criada:\n",
    "- a) de 1 até 10, de 1 em 1\n",
    "- b) de 10 até 0, de 2 em 2\n",
    "- c) uma contagem personalizada\n"
   ]
  },
  {
   "cell_type": "code",
   "execution_count": 8,
   "metadata": {},
   "outputs": [
    {
     "name": "stdout",
     "output_type": "stream",
     "text": [
      "Contagem de 1 até 10 de 1 em 1\n"
     ]
    }
   ],
   "source": [
    "def contador(i,f,p):\n",
    "    print(f'Contagem de {i} até {f} de {p} em {p}')\n",
    "\n",
    "contador(1,10,1)"
   ]
  },
  {
   "cell_type": "code",
   "execution_count": null,
   "metadata": {},
   "outputs": [
    {
     "name": "stdout",
     "output_type": "stream",
     "text": [
      "\n",
      "Welcome to Python 3.11's help utility!\n",
      "\n",
      "If this is your first time using Python, you should definitely check out\n",
      "the tutorial on the internet at https://docs.python.org/3.11/tutorial/.\n",
      "\n",
      "Enter the name of any module, keyword, or topic to get help on writing\n",
      "Python programs and using Python modules.  To quit this help utility and\n",
      "return to the interpreter, just type \"quit\".\n",
      "\n",
      "To get a list of available modules, keywords, symbols, or topics, type\n",
      "\"modules\", \"keywords\", \"symbols\", or \"topics\".  Each module also comes\n",
      "with a one-line summary of what it does; to list the modules whose name\n",
      "or summary contain a given string such as \"spam\", type \"modules spam\".\n",
      "\n",
      "help> print\n",
      "Help on built-in function print in module builtins:\n",
      "\n",
      "print(*args, sep=' ', end='\\n', file=None, flush=False)\n",
      "    Prints the values to a stream, or to sys.stdout by default.\n",
      "    \n",
      "    sep\n",
      "      string inserted between values, default a space.\n",
      "    end\n",
      "      string appended after the last value, default a newline.\n",
      "    file\n",
      "      a file-like object (stream); defaults to the current sys.stdout.\n",
      "    flush\n",
      "      whether to forcibly flush the stream.\n",
      "\n"
     ]
    }
   ],
   "source": [
    "help()"
   ]
  },
  {
   "cell_type": "code",
   "execution_count": null,
   "metadata": {},
   "outputs": [],
   "source": []
  }
 ],
 "metadata": {
  "kernelspec": {
   "display_name": "Python 3 (ipykernel)",
   "language": "python",
   "name": "python3"
  },
  "language_info": {
   "codemirror_mode": {
    "name": "ipython",
    "version": 3
   },
   "file_extension": ".py",
   "mimetype": "text/x-python",
   "name": "python",
   "nbconvert_exporter": "python",
   "pygments_lexer": "ipython3",
   "version": "3.11.5"
  }
 },
 "nbformat": 4,
 "nbformat_minor": 1
}
