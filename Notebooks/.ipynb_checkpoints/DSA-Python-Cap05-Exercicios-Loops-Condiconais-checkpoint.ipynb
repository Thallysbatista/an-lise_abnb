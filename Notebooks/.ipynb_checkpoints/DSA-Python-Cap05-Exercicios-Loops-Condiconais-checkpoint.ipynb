{
 "cells": [
  {
   "cell_type": "markdown",
   "metadata": {},
   "source": [
    "# <font color='blue'>Data Science Academy</font>\n",
    "\n",
    "## <font color='blue'>Capítulo 5 - Exercícios de Loops e Condicionais</font>"
   ]
  },
  {
   "cell_type": "markdown",
   "metadata": {},
   "source": [
    "- # **Atividades Curso em Video**"
   ]
  },
  {
   "cell_type": "markdown",
   "metadata": {},
   "source": [
    "- #### 1 - Faça um programa que leia M/F que será o sexo de uma pessoa, e que repita a pergunta até receber a resposta correta."
   ]
  },
  {
   "cell_type": "code",
   "execution_count": 8,
   "metadata": {},
   "outputs": [
    {
     "name": "stdout",
     "output_type": "stream",
     "text": [
      "Digite seu sexo (M/F): M\n"
     ]
    }
   ],
   "source": [
    "sexo = ' '\n",
    "while sexo != 'M' and sexo != 'F':\n",
    "        sexo = str(input('Digite seu sexo (M/F): '))\n",
    "\n",
    "   "
   ]
  },
  {
   "cell_type": "markdown",
   "metadata": {},
   "source": [
    "- #### 2 - Crie um programa que leia 2 números na tela e mostre um menu e realize a operação solicitada."
   ]
  },
  {
   "cell_type": "code",
   "execution_count": 1,
   "metadata": {
    "collapsed": true
   },
   "outputs": [
    {
     "name": "stdout",
     "output_type": "stream",
     "text": [
      "Digite o 1º valor: 10\n",
      "Digite o 2º valor: 1\n",
      "Digite a operação que deseja realizar: \n",
      " [1] SOMAR \n",
      " [2] SUBTRAIR \n",
      " [3] MAIOR \n",
      " [4] NOVOS NÚMEROS \n",
      " [5] SAIR \n",
      "4\n",
      "Digite novos números: \n",
      "\n",
      "Digite o 3º valor: 8\n",
      "Digite o 4º valor: 8\n",
      "Digite a operação que deseja realizar: \n",
      " [1] SOMAR \n",
      " [2] SUBTRAIR \n",
      " [3] MAIOR \n",
      " [4] NOVOS NÚMEROS \n",
      " [5] SAIR \n",
      "2\n",
      "Você digitou: 2\n",
      "A subtração é: 0\n",
      "Digite a operação que deseja realizar: \n",
      " [1] SOMAR \n",
      " [2] SUBTRAIR \n",
      " [3] MAIOR \n",
      " [4] NOVOS NÚMEROS \n",
      " [5] SAIR \n",
      "4\n",
      "Digite novos números: \n",
      "\n",
      "Digite o 3º valor: 10\n",
      "Digite o 4º valor: 5\n",
      "Digite a operação que deseja realizar: \n",
      " [1] SOMAR \n",
      " [2] SUBTRAIR \n",
      " [3] MAIOR \n",
      " [4] NOVOS NÚMEROS \n",
      " [5] SAIR \n",
      "3\n",
      "Você digitou: 3\n",
      "O número maior é: 10\n",
      "Digite a operação que deseja realizar: \n",
      " [1] SOMAR \n",
      " [2] SUBTRAIR \n",
      " [3] MAIOR \n",
      " [4] NOVOS NÚMEROS \n",
      " [5] SAIR \n",
      "6\n",
      "Programa encerrado\n",
      "Digite a operação que deseja realizar: \n",
      " [1] SOMAR \n",
      " [2] SUBTRAIR \n",
      " [3] MAIOR \n",
      " [4] NOVOS NÚMEROS \n",
      " [5] SAIR \n",
      "5\n",
      "Programa encerrado\n"
     ]
    }
   ],
   "source": [
    "num1 = int(input('Digite o 1º valor: '))\n",
    "num2 = int(input('Digite o 2º valor: '))\n",
    "operacao = ''\n",
    "while operacao != 5:\n",
    "    operacao = int(input('Digite a operação que deseja realizar: \\n [1] SOMAR \\n [2] SUBTRAIR \\n [3] MAIOR \\n [4] NOVOS NÚMEROS \\n [5] SAIR \\n'))\n",
    "    if operacao == 1:\n",
    "        soma = num1 + num2\n",
    "        print('Você digitou: {}'.format(operacao))\n",
    "        print('A soma é de: {}'.format(soma))\n",
    "    elif operacao == 2:\n",
    "        sub = num1 - num2\n",
    "        print('Você digitou: {}'.format(operacao))\n",
    "        print('A subtração é: {}'.format(sub))\n",
    "    elif operacao == 3:\n",
    "        maior = max(num1,num2)\n",
    "        print('Você digitou: {}'.format(operacao))\n",
    "        print('O número maior é: {}'.format(maior))\n",
    "    elif operacao == 4:\n",
    "        print('Digite novos números: \\n')\n",
    "        num1 = int(input('Digite o 3º valor: '))\n",
    "        num2 = int(input('Digite o 4º valor: '))\n",
    "    else:\n",
    "        print('Programa encerrado')"
   ]
  },
  {
   "cell_type": "markdown",
   "metadata": {},
   "source": [
    "- #### 3 - Faça um programa que leia um número qualquer e retorne seu fatorial "
   ]
  },
  {
   "cell_type": "code",
   "execution_count": 29,
   "metadata": {},
   "outputs": [
    {
     "name": "stdout",
     "output_type": "stream",
     "text": [
      "Digite o número que deseja saber seu fatorial: 5\n",
      "Calculado 5!: 5 x 4 x 3 x 2 x 1 = O fatorial de 5 é: 120\n"
     ]
    }
   ],
   "source": [
    "num = int(input('Digite o número que deseja saber seu fatorial: '))\n",
    "# C: é o contador que começa com o número do fatorial\n",
    "c = num \n",
    "# O fator nulo da multiplicação é 1, logo, deve-se começar com 1, pois, não altera a multiplicação\n",
    "f = 1 \n",
    "print('Calculado {}!: '.format(num), end ='')\n",
    "\n",
    "# O contador deve parar em 1, ou seja, precisa ser maior que zero.\n",
    "while c > 0:\n",
    "    print('{}'.format(c), end = '')\n",
    "    print(' x ' if c > 1 else ' = ', end='')\n",
    "    f *= c\n",
    "    c-= 1 # Para ir reduzir o contador até 1\n",
    "print('O fatorial de {} é: {}'.format(num, f))"
   ]
  },
  {
   "cell_type": "code",
   "execution_count": 22,
   "metadata": {},
   "outputs": [
    {
     "name": "stdout",
     "output_type": "stream",
     "text": [
      "Digite o número que deseja saber seu fatorial: 7\n",
      "O fatorial de 7 é: 5040\n"
     ]
    }
   ],
   "source": [
    "num = int(input('Digite o número que deseja saber seu fatorial: '))\n",
    "\n",
    "fatorial = 1\n",
    "for i in range(1, num + 1):\n",
    "    fatorial *= i\n",
    "\n",
    "print(\"O fatorial de {} é: {}\".format(num, fatorial))\n",
    "\n",
    "\n"
   ]
  }
 ],
 "metadata": {
  "kernelspec": {
   "display_name": "Python 3 (ipykernel)",
   "language": "python",
   "name": "python3"
  },
  "language_info": {
   "codemirror_mode": {
    "name": "ipython",
    "version": 3
   },
   "file_extension": ".py",
   "mimetype": "text/x-python",
   "name": "python",
   "nbconvert_exporter": "python",
   "pygments_lexer": "ipython3",
   "version": "3.11.5"
  }
 },
 "nbformat": 4,
 "nbformat_minor": 1
}
