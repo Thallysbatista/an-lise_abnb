{
 "cells": [
  {
   "cell_type": "markdown",
   "metadata": {},
   "source": [
    "# <font color='blue'>Data Science Academy</font>\n",
    "\n",
    "## <font color='blue'>Fundamentos de Linguagem Python Para Análise de Dados e Data Science</font>\n",
    "\n",
    "## <font color='blue'>Capítulo 5 - Exercicios de Métodos e Funções</font>"
   ]
  },
  {
   "cell_type": "code",
   "execution_count": 1,
   "metadata": {},
   "outputs": [
    {
     "name": "stdout",
     "output_type": "stream",
     "text": [
      "Versão da Linguagem Python Usada Neste Jupyter Notebook: 3.8.8\n"
     ]
    }
   ],
   "source": [
    "# Versão da Linguagem Python\n",
    "from platform import python_version\n",
    "print('Versão da Linguagem Python Usada Neste Jupyter Notebook:', python_version())"
   ]
  },
  {
   "cell_type": "markdown",
   "metadata": {},
   "source": [
    "## Exercícios - Métodos e Funções"
   ]
  },
  {
   "cell_type": "code",
   "execution_count": 12,
   "metadata": {},
   "outputs": [
    {
     "name": "stdout",
     "output_type": "stream",
     "text": [
      "2\n",
      "4\n",
      "6\n",
      "8\n",
      "10\n",
      "12\n",
      "14\n",
      "16\n",
      "18\n"
     ]
    }
   ],
   "source": [
    "# Exercício 1 - Crie uma função que imprima a sequência de números pares entre 1 e 20 (a função não recebe parâmetro) \n",
    "# e depois faça uma chamada à função para listar os números\n",
    "def print_pares():\n",
    "    for i in range(2,20,2):\n",
    "        print(i)\n",
    "print_pares()"
   ]
  },
  {
   "cell_type": "code",
   "execution_count": 47,
   "metadata": {},
   "outputs": [],
   "source": [
    "# Exercício 2 - Crie uam função que receba uma string como argumento e retorne a mesma string em letras maiúsculas.\n",
    "# Faça uma chamada à função, passando como parâmetro uma string\n",
    "def listaString(texto):\n",
    "    print(texto.upper())\n",
    "    return\n"
   ]
  },
  {
   "cell_type": "code",
   "execution_count": 58,
   "metadata": {},
   "outputs": [
    {
     "name": "stdout",
     "output_type": "stream",
     "text": [
      "None\n",
      "None\n",
      "[1, 2, 3, 4, 5, 6]\n"
     ]
    }
   ],
   "source": [
    "# Exercício 3 - Crie uma função que receba como parâmetro uma lista de 4 elementos, adicione 2 elementos a lista e \n",
    "# imprima a lista\n",
    "\n",
    "def novaLista(lista):\n",
    "    print(lista.append(5))\n",
    "    print(lista.append(6))\n",
    "   \n",
    "lista1 = [1, 2, 3, 4]   \n",
    "novaLista(lista1)\n",
    "print(lista1)"
   ]
  },
  {
   "cell_type": "code",
   "execution_count": 61,
   "metadata": {},
   "outputs": [
    {
     "name": "stdout",
     "output_type": "stream",
     "text": [
      "O valor passado foi:  [1, 2, 3, 4]\n"
     ]
    }
   ],
   "source": [
    "# Exercício 4 - Crie uma função que receba um argumento formal e uma possível lista de elementos. Faça duas chamadas \n",
    "# à função, com apenas 1 elemento e na segunda chamada com 4 elementos\n",
    "\n",
    "def funcao(x, *varlist):\n",
    "    print('O valor passado foi: ', x)\n",
    "    \n",
    "    for i in varlist:\n",
    "        print('O valor passado foi: ', varlist)\n",
    "    return\n",
    "\n",
    "funcao([1,2,3,4])"
   ]
  },
  {
   "cell_type": "code",
   "execution_count": null,
   "metadata": {},
   "outputs": [],
   "source": [
    "# Exercício 5 - Crie uma função anônima e atribua seu retorno a uma variável chamada soma. A expressão vai receber 2 \n",
    "# números como parâmetro e retornar a soma deles"
   ]
  },
  {
   "cell_type": "code",
   "execution_count": null,
   "metadata": {},
   "outputs": [],
   "source": [
    "# Exercício 6 - Execute o código abaixo e certifique-se que compreende a diferença entre variável global e local\n",
    "total = 0\n",
    "def soma( arg1, arg2 ):\n",
    "    total = arg1 + arg2; \n",
    "    print (\"Dentro da função o total é: \", total)\n",
    "    return total;\n",
    "\n",
    "\n",
    "soma( 10, 20 );\n",
    "print (\"Fora da função o total é: \", total)"
   ]
  },
  {
   "cell_type": "code",
   "execution_count": null,
   "metadata": {},
   "outputs": [],
   "source": [
    "# Exercício 7 - Abaixo você encontra uma lista com temperaturas em graus Celsius\n",
    "# Crie uma função anônima que converta cada temperatura para Fahrenheit\n",
    "# Dica: para conseguir realizar este exercício, você deve criar sua função lambda, dentro de uma função \n",
    "# (que será estudada no próximo capítulo). Isso permite aplicar sua função a cada elemento da lista\n",
    "# Como descobrir a fórmula matemática que converte de Celsius para Fahrenheit? Pesquise!!!\n",
    "Celsius = [39.2, 36.5, 37.3, 37.8]\n",
    "Fahrenheit = map(coloque_aqui_sua_função_lambda)\n",
    "print (list(Fahrenheit))"
   ]
  },
  {
   "cell_type": "code",
   "execution_count": null,
   "metadata": {},
   "outputs": [],
   "source": [
    "# Exercício 8 - Crie uma list comprehension que imprima o quadrado dos números de 1 a 10\n",
    "[x**2 for x in range(1,11)]"
   ]
  },
  {
   "cell_type": "code",
   "execution_count": null,
   "metadata": {},
   "outputs": [],
   "source": [
    "# Exercício 9 - Crie uma list comprehension que imprima as palavras com a letra a no nome\n",
    "palavras = [\"maça\", \"coiote\", \"banana\", \"terreno\", \"Python\"]\n"
   ]
  },
  {
   "cell_type": "code",
   "execution_count": null,
   "metadata": {},
   "outputs": [],
   "source": [
    "# Exercício 10 - Crie uma list comprehension que imprima os números menores que 5 em um intervalo de 1 a 10\n"
   ]
  },
  {
   "cell_type": "markdown",
   "metadata": {},
   "source": [
    "- ### Execerícios do Curso em video "
   ]
  },
  {
   "cell_type": "markdown",
   "metadata": {},
   "source": [
    "- #### Print na tela todos os números entre 0 e 50 que são pares"
   ]
  },
  {
   "cell_type": "code",
   "execution_count": 64,
   "metadata": {
    "collapsed": true
   },
   "outputs": [
    {
     "name": "stdout",
     "output_type": "stream",
     "text": [
      "0\n",
      "2\n",
      "4\n",
      "6\n",
      "8\n",
      "10\n",
      "12\n",
      "14\n",
      "16\n",
      "18\n",
      "20\n",
      "22\n",
      "24\n",
      "26\n",
      "28\n",
      "30\n",
      "32\n",
      "34\n",
      "36\n",
      "38\n",
      "40\n",
      "42\n",
      "44\n",
      "46\n",
      "48\n",
      "50\n"
     ]
    }
   ],
   "source": [
    "for i in range(0,52,2):\n",
    "    print(i)"
   ]
  },
  {
   "cell_type": "markdown",
   "metadata": {},
   "source": [
    "- #### Faça um programa que calcule a soma entre todos os números ímpares que são múltiplos de 3 e que estão no intervalo de 1 até 500"
   ]
  },
  {
   "cell_type": "code",
   "execution_count": 98,
   "metadata": {
    "scrolled": true
   },
   "outputs": [
    {
     "data": {
      "text/plain": [
       "20667"
      ]
     },
     "execution_count": 98,
     "metadata": {},
     "output_type": "execute_result"
    }
   ],
   "source": [
    "# 1º Método \n",
    "lista =[]\n",
    "for i in range(0,500,3):\n",
    "    if i % 2 != 0:\n",
    "        lista.append(i)\n",
    "sum(lista)\n",
    "        "
   ]
  },
  {
   "cell_type": "code",
   "execution_count": 99,
   "metadata": {},
   "outputs": [
    {
     "data": {
      "text/plain": [
       "20667"
      ]
     },
     "execution_count": 99,
     "metadata": {},
     "output_type": "execute_result"
    }
   ],
   "source": [
    "# 2º Método\n",
    "\n",
    "lista = [i for i in range(0, 500, 3) if i % 2 != 0]\n",
    "\n",
    "sum(lista)"
   ]
  },
  {
   "cell_type": "markdown",
   "metadata": {},
   "source": [
    "- #### Faça um programa que leia 6 números inteiros e mostre a soma somente daqueles que são pares"
   ]
  },
  {
   "cell_type": "code",
   "execution_count": 126,
   "metadata": {},
   "outputs": [
    {
     "name": "stdout",
     "output_type": "stream",
     "text": [
      "Digite um número: 6\n",
      "Digite um número: 6\n",
      "Digite um número: 6\n",
      "Digite um número: 6\n",
      "Digite um número: 6\n",
      "Digite um número: 6\n",
      "A soma dos números pares é: 36\n"
     ]
    }
   ],
   "source": [
    "# 1 - Criamos uma lista vazia (lista) antes do loop. \n",
    "# 2 - Dentro do loop, solicitamos ao usuário que digite um n°, convertemos a entrada para int e o armazenamos na variável numero. \n",
    "# 3 - Em seguida, utilizamos o método append() para adicionar o valor de numero à lista lista1.\n",
    "\n",
    "lista1 = []\n",
    "\n",
    "for i in range(0, 6):\n",
    "    numero = int(input('Digite um número: '))\n",
    "    lista1.append(numero)\n",
    "    \n",
    "# Uma variável divisor é definida com o valor 2.\n",
    "# Um novo loop for itera sobre cada elemento da lista lista1.\n",
    "# Dentro do loop, o resto da divisão do elemento atual (i) por divisor é armazenado na variável resultado.\n",
    "# Se o valor de resultado for igual a 0 (indicando um número par), o elemento atual é adicionado à lista nova_lista.\n",
    "\n",
    "divisor = 2\n",
    "nova_lista = []\n",
    "\n",
    "for i in lista1:\n",
    "    resultado = i % divisor\n",
    "    if resultado == 0:\n",
    "        nova_lista.append(i)\n",
    "\n",
    "soma = sum(nova_lista)\n",
    "\n",
    "print(f\"A soma dos números pares é: {soma}\")"
   ]
  },
  {
   "cell_type": "markdown",
   "metadata": {},
   "source": [
    "- #### Desenvolva um programa que leia o 1° termo e a razão de uma PA. No final mostre os 10 primeiros termos dessa PA."
   ]
  },
  {
   "cell_type": "code",
   "execution_count": 140,
   "metadata": {},
   "outputs": [
    {
     "name": "stdout",
     "output_type": "stream",
     "text": [
      "Digite o 1º termo dessa PA: 1\n",
      "Digite aqui a razão dessa PA: 2\n",
      "[1, 3, 5, 7, 9, 11, 13, 15, 17, 19]\n"
     ]
    }
   ],
   "source": [
    "ptermo = int(input('Digite o 1º termo dessa PA: '))\n",
    "r = int(input('Digite aqui a razão dessa PA: '))\n",
    "\n",
    "lista = []\n",
    "\n",
    "for n in range(0,10):\n",
    "     x = (ptermo + r*n)\n",
    "     lista.append(x)\n",
    "print(lista)"
   ]
  },
  {
   "cell_type": "markdown",
   "metadata": {},
   "source": [
    "- #### Desenvolva um programa que leia o 1° termo e a razão de uma PG. No final mostre os 10 primeiros termos dessa PG."
   ]
  },
  {
   "cell_type": "code",
   "execution_count": 134,
   "metadata": {},
   "outputs": [
    {
     "name": "stdout",
     "output_type": "stream",
     "text": [
      "Digite o 1º termo dessa PA: 1\n",
      "Digite aqui a razão dessa PA: 0\n",
      "[1, 1, 1, 1, 1, 1, 1, 1, 1, 1]\n"
     ]
    }
   ],
   "source": [
    "ptermo = int(input('Digite o 1º termo dessa PA: '))\n",
    "r = int(input('Digite aqui a razão dessa PA: '))\n",
    "\n",
    "lista = []\n",
    "\n",
    "for n in range(0,10):\n",
    "     x = (ptermo + n*r)\n",
    "     lista.append(x)\n",
    "print(lista)"
   ]
  },
  {
   "cell_type": "markdown",
   "metadata": {},
   "source": [
    "- #### Faça um programa que receba um número inteiro e diga se ele é primo ou não"
   ]
  },
  {
   "cell_type": "code",
   "execution_count": 48,
   "metadata": {},
   "outputs": [
    {
     "name": "stdout",
     "output_type": "stream",
     "text": [
      "Digite um número: 4\n",
      "[0, 0, 1, 0]\n",
      "4 não é primo\n"
     ]
    }
   ],
   "source": [
    "num = int(input('Digite um número: '))\n",
    "\n",
    "lista1 =[]\n",
    "for i in range(1,num+1):\n",
    "    lista1.append(i) # Cria uma lista de 1 até o número digitado pelo usuário e armazena em lista1\n",
    "resultado = [num % i for i in lista1] # Dividindo cada 'num' por cada elemento da lista\n",
    "\n",
    "print(resultado)\n",
    "\n",
    "# Inicializando um contador para contar o número de zeros\n",
    "contador_zeros = 0\n",
    "\n",
    "# Percorrendo a lista e contando os zeros, pois quando for um número primo, só haverá no máx 2 ZEROS na lista\n",
    "for i in resultado:\n",
    "    if i == 0:\n",
    "        contador_zeros += 1\n",
    "if contador_zeros <= 2:\n",
    "    print('{} é primo'.format(num))\n",
    "else:\n",
    "    print('{} não é primo'.format(num))"
   ]
  },
  {
   "cell_type": "markdown",
   "metadata": {},
   "source": [
    "- #### Crie um programa que leia o ano de nascimento de 7 pessoas e digam se já são maiores de idade"
   ]
  },
  {
   "cell_type": "code",
   "execution_count": null,
   "metadata": {},
   "outputs": [],
   "source": [
    "lista1 = []\n",
    "\n",
    "for i in range(0, 6):\n",
    "    ano = int(input('Qual seu ano de nascimento: '))\n",
    "    lista1.append(ano)                 # Grava na lista1 todos os anos de nascimento\n",
    "resultado = [2024 - i for i in lista1] # Subtrai do ano atual de cada ano de nascimento da lista\n",
    "\n",
    "contador_maior = 0\n",
    "contador_menor = 0\n",
    "\n",
    "for j in resultado:\n",
    "    if j >= 21:\n",
    "        contador_maior += 1\n",
    "    else:\n",
    "        contador_menor += 1\n",
    "\n",
    "print('{} maior(es) de idade'.format(contador_maior))\n",
    "print('{} menor(es) de idade'.format(contador_menor))"
   ]
  },
  {
   "cell_type": "markdown",
   "metadata": {},
   "source": [
    "- #### Crie um programa que leia peso de 5 pessoas e diga o maior e o menor"
   ]
  },
  {
   "cell_type": "code",
   "execution_count": 4,
   "metadata": {},
   "outputs": [
    {
     "name": "stdout",
     "output_type": "stream",
     "text": [
      "Qual o seu peso: 100\n",
      "Qual o seu peso: 120\n",
      "Qual o seu peso: 125\n",
      "Qual o seu peso: 130\n",
      "Qual o seu peso: 140\n",
      "O maior valor da lista foi de: 140\n",
      "O menor valor da lista foi de:  100\n"
     ]
    }
   ],
   "source": [
    "lista = []\n",
    "\n",
    "for j in range(0,5):\n",
    "    peso = int(input('Qual o seu peso: '))\n",
    "    lista.append(peso)\n",
    "\n",
    "print('O maior valor da lista foi de:', max(lista))\n",
    "print('O menor valor da lista foi de: ', min(lista))"
   ]
  },
  {
   "cell_type": "markdown",
   "metadata": {},
   "source": [
    "- #### Crie um programa que leia o nome, idade e sexo de 4 pessoas. Ao final, mostre: média de idade do grupo, nome do homem mais velho e quantas mulheres tem menos de 20 anos. "
   ]
  },
  {
   "cell_type": "code",
   "execution_count": null,
   "metadata": {},
   "outputs": [
    {
     "name": "stdout",
     "output_type": "stream",
     "text": [
      "----- 1ª Pessoa -----\n",
      "Digite seu nome: Thallys\n",
      "Digite sua idade: 26\n",
      "Digite seu sexo: M\n",
      "----- 2ª Pessoa -----\n"
     ]
    }
   ],
   "source": [
    "from numpy import mean\n",
    "\n",
    "lista_nome = []\n",
    "lista_idade = []\n",
    "lista_sexo = []\n",
    "for i in range(1, 5):\n",
    "    print('-'*5, '{}ª Pessoa'.format(i), '-'*5)\n",
    "    nome = input('Digite seu nome: ').strip()\n",
    "    idade = int(input('Digite sua idade: '))\n",
    "    sexo = input('Digite seu sexo: ').strip() #Garante que ficará tudo maiúsculo \n",
    "    \n",
    "    lista_nome.append(nome)    \n",
    "    lista_idade.append(idade) \n",
    "    lista_sexo.append(sexo) "
   ]
  },
  {
   "cell_type": "code",
   "execution_count": 25,
   "metadata": {},
   "outputs": [
    {
     "name": "stdout",
     "output_type": "stream",
     "text": [
      "8\n",
      "1\n",
      "8\n"
     ]
    }
   ],
   "source": [
    "i for i in lista(0,2,1,5):\n",
    "    print()"
   ]
  },
  {
   "cell_type": "markdown",
   "metadata": {},
   "source": [
    "\n",
    "# Fim"
   ]
  },
  {
   "cell_type": "markdown",
   "metadata": {},
   "source": [
    "### Obrigado\n",
    "\n",
    "### Visite o Blog da Data Science Academy - <a href=\"http://blog.dsacademy.com.br\">Blog DSA</a>"
   ]
  },
  {
   "cell_type": "code",
   "execution_count": null,
   "metadata": {},
   "outputs": [],
   "source": []
  }
 ],
 "metadata": {
  "kernelspec": {
   "display_name": "Python 3 (ipykernel)",
   "language": "python",
   "name": "python3"
  },
  "language_info": {
   "codemirror_mode": {
    "name": "ipython",
    "version": 3
   },
   "file_extension": ".py",
   "mimetype": "text/x-python",
   "name": "python",
   "nbconvert_exporter": "python",
   "pygments_lexer": "ipython3",
   "version": "3.11.5"
  }
 },
 "nbformat": 4,
 "nbformat_minor": 1
}
